{
 "cells": [
  {
   "cell_type": "markdown",
   "metadata": {},
   "source": [
    "# Tianyi Zhang 9598110243\n",
    "----------------"
   ]
  },
  {
   "cell_type": "markdown",
   "metadata": {},
   "source": [
    "## 1. Multi-class and Multi-Label Classification Using Support Vector Machines"
   ]
  },
  {
   "cell_type": "markdown",
   "metadata": {},
   "source": [
    "### a)"
   ]
  },
  {
   "cell_type": "code",
   "execution_count": 3,
   "metadata": {},
   "outputs": [],
   "source": [
    "import numpy as np\n",
    "import pandas as pd\n",
    "import seaborn as sns\n",
    "import matplotlib.pyplot as plt\n",
    "import os\n",
    "from sklearn.model_selection import train_test_split\n"
   ]
  },
  {
   "cell_type": "code",
   "execution_count": 4,
   "metadata": {},
   "outputs": [],
   "source": [
    "import sys\n",
    "import warnings\n",
    "\n",
    "warnings.filterwarnings('ignore')\n",
    "if not sys.warnoptions:\n",
    "    warnings.simplefilter(\"ignore\")"
   ]
  },
  {
   "cell_type": "code",
   "execution_count": 3,
   "metadata": {},
   "outputs": [],
   "source": [
    "data_folder = '..\\\\data\\\\Anuran Calls (MFCCs)'"
   ]
  },
  {
   "cell_type": "code",
   "execution_count": 4,
   "metadata": {},
   "outputs": [
    {
     "name": "stdout",
     "output_type": "stream",
     "text": [
      "   MFCCs_ 1  MFCCs_ 2  MFCCs_ 3  MFCCs_ 4  MFCCs_ 5  MFCCs_ 6  MFCCs_ 7  \\\n",
      "0       1.0  0.152936 -0.105586  0.200722  0.317201  0.260764  0.100945   \n",
      "1       1.0  0.171534 -0.098975  0.268425  0.338672  0.268353  0.060835   \n",
      "2       1.0  0.152317 -0.082973  0.287128  0.276014  0.189867  0.008714   \n",
      "3       1.0  0.224392  0.118985  0.329432  0.372088  0.361005  0.015501   \n",
      "4       1.0  0.087817 -0.068345  0.306967  0.330923  0.249144  0.006884   \n",
      "\n",
      "   MFCCs_ 8  MFCCs_ 9  MFCCs_10  ...  MFCCs_17  MFCCs_18  MFCCs_19  MFCCs_20  \\\n",
      "0 -0.150063 -0.171128  0.124676  ... -0.108351 -0.077623 -0.009568  0.057684   \n",
      "1 -0.222475 -0.207693  0.170883  ... -0.090974 -0.056510 -0.035303  0.020140   \n",
      "2 -0.242234 -0.219153  0.232538  ... -0.050691 -0.023590 -0.066722 -0.025083   \n",
      "3 -0.194347 -0.098181  0.270375  ... -0.136009 -0.177037 -0.130498 -0.054766   \n",
      "4 -0.265423 -0.172700  0.266434  ... -0.048885 -0.053074 -0.088550 -0.031346   \n",
      "\n",
      "   MFCCs_21  MFCCs_22           Family      Genus         Species  RecordID  \n",
      "0  0.118680  0.014038  Leptodactylidae  Adenomera  AdenomeraAndre         1  \n",
      "1  0.082263  0.029056  Leptodactylidae  Adenomera  AdenomeraAndre         1  \n",
      "2  0.099108  0.077162  Leptodactylidae  Adenomera  AdenomeraAndre         1  \n",
      "3 -0.018691  0.023954  Leptodactylidae  Adenomera  AdenomeraAndre         1  \n",
      "4  0.108610  0.079244  Leptodactylidae  Adenomera  AdenomeraAndre         1  \n",
      "\n",
      "[5 rows x 26 columns]\n"
     ]
    }
   ],
   "source": [
    "filename = os.path.join(data_folder,'Frogs_MFCCs.csv')\n",
    "\n",
    "df = pd.read_csv(filename, header = 0)\n",
    "print(df.head(5))"
   ]
  },
  {
   "cell_type": "code",
   "execution_count": 5,
   "metadata": {},
   "outputs": [
    {
     "name": "stdout",
     "output_type": "stream",
     "text": [
      "   MFCCs_ 1  MFCCs_ 2  MFCCs_ 3  MFCCs_ 4  MFCCs_ 5  MFCCs_ 6  MFCCs_ 7  \\\n",
      "0       1.0  0.578343  0.387529  0.567998  0.190552  0.004060 -0.107670   \n",
      "1       1.0  0.673930  0.308208  0.431332  0.321073  0.100332 -0.143374   \n",
      "2       1.0  0.570986  0.423022  0.200043  0.045258  0.117523  0.008010   \n",
      "3       1.0  0.154713  0.127864  0.588307  0.268080 -0.004269 -0.117376   \n",
      "4       1.0  0.513914  0.310416  0.484653  0.118076  0.021559 -0.087905   \n",
      "\n",
      "   MFCCs_ 8  MFCCs_ 9  MFCCs_10  ...  MFCCs_17  MFCCs_18  MFCCs_19  MFCCs_20  \\\n",
      "0  0.014123  0.208031  0.044684  ...  0.167365  0.004988 -0.053840 -0.093363   \n",
      "1 -0.220256 -0.047391  0.255579  ... -0.150499 -0.171813 -0.023989  0.117805   \n",
      "2 -0.037323  0.099172  0.032919  ... -0.008477  0.002976  0.038844 -0.008619   \n",
      "3  0.136099  0.250138 -0.029540  ...  0.089143 -0.069926 -0.079712 -0.005897   \n",
      "4  0.015783  0.229560  0.101129  ...  0.181692  0.059948 -0.022623 -0.120523   \n",
      "\n",
      "   MFCCs_21  MFCCs_22           Family          Genus                 Species  \\\n",
      "0  0.023864  0.205664  Leptodactylidae      Adenomera  AdenomeraHylaedactylus   \n",
      "1  0.088797 -0.122443          Hylidae  Dendropsophus              HylaMinuta   \n",
      "2  0.004927  0.083896          Hylidae      Hypsiboas       HypsiboasCordobae   \n",
      "3  0.135837  0.087556  Leptodactylidae      Adenomera  AdenomeraHylaedactylus   \n",
      "4 -0.070060  0.188819  Leptodactylidae      Adenomera  AdenomeraHylaedactylus   \n",
      "\n",
      "   RecordID  \n",
      "0        22  \n",
      "1        34  \n",
      "2        42  \n",
      "3        18  \n",
      "4        22  \n",
      "\n",
      "[5 rows x 26 columns]\n",
      "(5036, 26) (2159, 26)\n"
     ]
    }
   ],
   "source": [
    "data = df.sample(frac=1).reset_index(drop=True)\n",
    "print(data.head(5))\n",
    "\n",
    "datatr, datate = train_test_split(data, test_size=0.3)\n",
    "print(datatr.shape, datate.shape)"
   ]
  },
  {
   "cell_type": "code",
   "execution_count": 6,
   "metadata": {},
   "outputs": [
    {
     "name": "stdout",
     "output_type": "stream",
     "text": [
      "training dataset shape: (5036, 22) (5036, 3)\n",
      "test dataset shape: (2159, 22) (2159, 3)\n"
     ]
    }
   ],
   "source": [
    "xtr = datatr.iloc[:, :-4]\n",
    "ytr = datatr.iloc[:, -4:-1]\n",
    "xte = datate.iloc[:, :-4]\n",
    "yte = datate.iloc[:, -4:-1]\n",
    "\n",
    "print(\"training dataset shape:\", xtr.shape, ytr.shape)\n",
    "print(\"test dataset shape:\", xte.shape, yte.shape)"
   ]
  },
  {
   "cell_type": "markdown",
   "metadata": {},
   "source": [
    "### b)"
   ]
  },
  {
   "cell_type": "markdown",
   "metadata": {},
   "source": [
    "#### 1)"
   ]
  },
  {
   "cell_type": "markdown",
   "metadata": {},
   "source": [
    "**With sklearn, I will use metrics.accuracy_score(y_true, y_pred) to evaluate in an exact match way. And I will use metrics.hamming_loss(y_true, y_pred) to evaluate with the hamming loss.**"
   ]
  },
  {
   "cell_type": "markdown",
   "metadata": {},
   "source": [
    "#### 2)"
   ]
  },
  {
   "cell_type": "markdown",
   "metadata": {},
   "source": [
    "**For raw data:**"
   ]
  },
  {
   "cell_type": "code",
   "execution_count": 7,
   "metadata": {},
   "outputs": [],
   "source": [
    "from sklearn.metrics import accuracy_score, hamming_loss\n",
    "from sklearn.model_selection import GridSearchCV\n",
    "from sklearn.preprocessing import StandardScaler\n",
    "from sklearn.svm import SVC\n",
    "from sklearn.pipeline import make_pipeline"
   ]
  },
  {
   "cell_type": "code",
   "execution_count": 8,
   "metadata": {},
   "outputs": [],
   "source": [
    "svcParameters = {\"gamma\": np.linspace(0.3, 3, 10), \"C\": np.logspace(-3, 6, 10)}"
   ]
  },
  {
   "cell_type": "code",
   "execution_count": 9,
   "metadata": {},
   "outputs": [
    {
     "name": "stdout",
     "output_type": "stream",
     "text": [
      "For raw dataset:\n",
      "--------------------\n",
      "label: Family\n",
      "The best parameters:  {'C': 100.0, 'gamma': 2.7}\n",
      "The score:  0.9944418712366836\n",
      "The hamming loss:  0.00555812876331635\n",
      "--------------------\n",
      "label: Genus\n",
      "The best parameters:  {'C': 100.0, 'gamma': 1.8000000000000003}\n",
      "The score:  0.9902732746641963\n",
      "The hamming loss:  0.009726725335803613\n",
      "--------------------\n",
      "label: Species\n",
      "The best parameters:  {'C': 10.0, 'gamma': 1.8000000000000003}\n",
      "The score:  0.9893469198703103\n",
      "The hamming loss:  0.010653080129689671\n"
     ]
    }
   ],
   "source": [
    "print(\"For raw dataset:\")\n",
    "for label in range(ytr.shape[1]):\n",
    "    y_tr = ytr.iloc[:, label]\n",
    "    y_te = yte.iloc[:, label]\n",
    "\n",
    "    svc = SVC(kernel=\"rbf\", decision_function_shape='ovr')\n",
    "    \n",
    "    gridCV = GridSearchCV(svc, svcParameters, cv=10, n_jobs=-1)\n",
    "    gridCV.fit(xtr, y_tr)\n",
    "\n",
    "    bestClf = gridCV.best_estimator_\n",
    "\n",
    "    prediction = bestClf.predict(xte)\n",
    "    \n",
    "    print(\"--------------------\")\n",
    "    print(\"label:\", ytr.columns[label])\n",
    "    print(\"The best parameters: \", gridCV.best_params_)\n",
    "\n",
    "    print(\"The score: \", accuracy_score(y_te, prediction))\n",
    "\n",
    "    print(\"The hamming loss: \", hamming_loss(y_te, prediction))"
   ]
  },
  {
   "cell_type": "code",
   "execution_count": null,
   "metadata": {},
   "outputs": [],
   "source": []
  },
  {
   "cell_type": "markdown",
   "metadata": {},
   "source": [
    "**For standardized data:**"
   ]
  },
  {
   "cell_type": "code",
   "execution_count": 10,
   "metadata": {},
   "outputs": [],
   "source": [
    "std_svcParameters = {\"svc__gamma\": np.linspace(0.3, 3, 10), \"svc__C\": np.logspace(-3, 6, 10)}"
   ]
  },
  {
   "cell_type": "code",
   "execution_count": 11,
   "metadata": {},
   "outputs": [
    {
     "name": "stdout",
     "output_type": "stream",
     "text": [
      "For standardized dataset:\n",
      "--------------------\n",
      "label: Family\n",
      "The best parameters:  {'svc__C': 10.0, 'svc__gamma': 0.3}\n",
      "The score:  0.29272811486799444\n",
      "The hamming loss:  0.7072718851320056\n",
      "--------------------\n",
      "label: Genus\n",
      "The best parameters:  {'svc__C': 10.0, 'svc__gamma': 0.3}\n",
      "The score:  0.21491431218156554\n",
      "The hamming loss:  0.7850856878184345\n",
      "--------------------\n",
      "label: Species\n",
      "The best parameters:  {'svc__C': 10.0, 'svc__gamma': 0.3}\n",
      "The score:  0.14960629921259844\n",
      "The hamming loss:  0.8503937007874016\n"
     ]
    }
   ],
   "source": [
    "print(\"For standardized dataset:\")\n",
    "for label in range(ytr.shape[1]):\n",
    "    y_tr = ytr.iloc[:, label]\n",
    "    y_te = yte.iloc[:, label]\n",
    "\n",
    "    std_svc = make_pipeline(StandardScaler(), SVC(kernel=\"rbf\", decision_function_shape='ovr'))\n",
    "    std_gridCV = GridSearchCV(std_svc, std_svcParameters, cv=10, n_jobs=-1)\n",
    "    std_gridCV.fit(xtr, y_tr)\n",
    "\n",
    "    bestClf_std = std_gridCV.best_estimator_\n",
    "\n",
    "    prediction_std = bestClf_std.predict(StandardScaler().fit(xte).transform(xte))\n",
    "\n",
    "    print(\"--------------------\")\n",
    "    print(\"label:\", ytr.columns[label])\n",
    "    print(\"The best parameters: \", std_gridCV.best_params_)\n",
    "\n",
    "    print(\"The score: \", accuracy_score(y_te, prediction_std))\n",
    "\n",
    "    print(\"The hamming loss: \", hamming_loss(y_te, prediction_std))"
   ]
  },
  {
   "cell_type": "markdown",
   "metadata": {},
   "source": [
    "#### 3)"
   ]
  },
  {
   "cell_type": "code",
   "execution_count": 12,
   "metadata": {},
   "outputs": [],
   "source": [
    "from sklearn.svm import LinearSVC\n",
    "from sklearn.pipeline import make_pipeline"
   ]
  },
  {
   "cell_type": "code",
   "execution_count": 13,
   "metadata": {},
   "outputs": [],
   "source": [
    "l1_parameters = {\"linearsvc__C\": np.logspace(-3, 6, 10)}"
   ]
  },
  {
   "cell_type": "code",
   "execution_count": 14,
   "metadata": {},
   "outputs": [
    {
     "name": "stdout",
     "output_type": "stream",
     "text": [
      "With L1-penalized:\n",
      "--------------------\n",
      "label: Family\n",
      "The best parameters:  {'linearsvc__C': 10.0}\n",
      "The score:  0.7684113015284854\n",
      "The hamming loss:  0.2315886984715146\n",
      "--------------------\n",
      "label: Genus\n",
      "The best parameters:  {'linearsvc__C': 10.0}\n",
      "The score:  0.7443260768874479\n",
      "The hamming loss:  0.2556739231125521\n",
      "--------------------\n",
      "label: Species\n",
      "The best parameters:  {'linearsvc__C': 1000.0}\n",
      "The score:  0.8675312644742936\n",
      "The hamming loss:  0.13246873552570634\n"
     ]
    }
   ],
   "source": [
    "print(\"With L1-penalized:\")\n",
    "for label in range(ytr.shape[1]):\n",
    "    y_tr = ytr.iloc[:, label]\n",
    "    y_te = yte.iloc[:, label]\n",
    "    \n",
    "    l1_scv = make_pipeline(StandardScaler(), LinearSVC(penalty=\"l1\", multi_class='ovr', dual=False))\n",
    "    gridCV = GridSearchCV(l1_scv, l1_parameters, cv=10, n_jobs=-1)\n",
    "    gridCV.fit(xtr, y_tr)\n",
    "\n",
    "    bestClf = gridCV.best_estimator_\n",
    "    prediction = bestClf.predict(StandardScaler().fit(xte).transform(xte))\n",
    "\n",
    "    print(\"--------------------\")\n",
    "    print(\"label:\", ytr.columns[label])\n",
    "    print(\"The best parameters: \", gridCV.best_params_)\n",
    "\n",
    "    print(\"The score: \", accuracy_score(y_te, prediction))\n",
    "\n",
    "    print(\"The hamming loss: \", hamming_loss(y_te, prediction))"
   ]
  },
  {
   "cell_type": "code",
   "execution_count": null,
   "metadata": {},
   "outputs": [],
   "source": []
  },
  {
   "cell_type": "markdown",
   "metadata": {},
   "source": [
    "#### 4)"
   ]
  },
  {
   "cell_type": "code",
   "execution_count": 15,
   "metadata": {},
   "outputs": [],
   "source": [
    "from imblearn.over_sampling import SMOTE"
   ]
  },
  {
   "cell_type": "code",
   "execution_count": 16,
   "metadata": {},
   "outputs": [
    {
     "name": "stdout",
     "output_type": "stream",
     "text": [
      "After using SMOTE to remedy class imbalance:\n",
      "--------------------\n",
      "label: Family\n",
      "The best parameters:  {'linearsvc__C': 1.0}\n",
      "The score:  0.9226493747105141\n",
      "The hamming loss:  0.07735062528948587\n",
      "--------------------\n",
      "label: Genus\n",
      "The best parameters:  {'linearsvc__C': 1000.0}\n",
      "The score:  0.9184807781380269\n",
      "The hamming loss:  0.08151922186197313\n",
      "--------------------\n",
      "label: Species\n",
      "The best parameters:  {'linearsvc__C': 100000.0}\n",
      "The score:  0.9504400185270959\n",
      "The hamming loss:  0.04955998147290412\n"
     ]
    }
   ],
   "source": [
    "print(\"After using SMOTE to remedy class imbalance:\")\n",
    "for label in range(ytr.shape[1]):\n",
    "    y_tr = ytr.iloc[:, label]\n",
    "    y_te = yte.iloc[:, label]\n",
    "    \n",
    "    smote = SMOTE()\n",
    "    smote_xtr, smote_ytr = smote.fit_sample(xtr, y_tr)\n",
    "#     smote_xte, smote_yte = smote.fit_sample(xte, y_te)\n",
    "\n",
    "    l1_scv = make_pipeline(StandardScaler(), LinearSVC(penalty=\"l1\", multi_class='ovr', dual=False))\n",
    "    gridCV = GridSearchCV(l1_scv, l1_parameters, cv=10, n_jobs=-1)\n",
    "    gridCV.fit(smote_xtr, smote_ytr)\n",
    "\n",
    "    bestClf = gridCV.best_estimator_\n",
    "    prediction = bestClf.predict(xte)\n",
    "\n",
    "    print(\"--------------------\")\n",
    "    print(\"label:\", ytr.columns[label])\n",
    "    print(\"The best parameters: \", gridCV.best_params_)\n",
    "\n",
    "    print(\"The score: \", accuracy_score(y_te, prediction))\n",
    "\n",
    "    print(\"The hamming loss: \", hamming_loss(y_te, prediction))"
   ]
  },
  {
   "cell_type": "markdown",
   "metadata": {},
   "source": [
    "#### 5)"
   ]
  },
  {
   "cell_type": "markdown",
   "metadata": {},
   "source": [
    "#### 6)"
   ]
  },
  {
   "cell_type": "markdown",
   "metadata": {},
   "source": [
    "## 2. K-Means Clustering on a Multi-Class and Multi-Label Data Set"
   ]
  },
  {
   "cell_type": "markdown",
   "metadata": {},
   "source": [
    "### a)"
   ]
  },
  {
   "cell_type": "code",
   "execution_count": 17,
   "metadata": {},
   "outputs": [],
   "source": [
    "from sklearn.metrics import silhouette_score\n",
    "from sklearn.cluster import KMeans\n",
    "from scipy.spatial.distance import cdist"
   ]
  },
  {
   "cell_type": "code",
   "execution_count": 18,
   "metadata": {},
   "outputs": [],
   "source": [
    "x = data.iloc[:, :-4]"
   ]
  },
  {
   "cell_type": "code",
   "execution_count": 26,
   "metadata": {},
   "outputs": [],
   "source": [
    "scores = []\n",
    "bestK = []\n",
    "\n",
    "for i in range(50):\n",
    "    temp_score = []\n",
    "    \n",
    "    for k in range(2, 51):\n",
    "        kmeans = KMeans(n_clusters=k, random_state=i)\n",
    "        cluster = kmeans.fit_predict(x)\n",
    "        \n",
    "        temp_score.append(silhouette_score(x, cluster))\n",
    "\n",
    "    temp_bestK = np.argmax(temp_score) + 2\n",
    "    bestK.append(temp_bestK)\n",
    "    scores.append(max(temp_score))"
   ]
  },
  {
   "cell_type": "code",
   "execution_count": 28,
   "metadata": {},
   "outputs": [
    {
     "name": "stdout",
     "output_type": "stream",
     "text": [
      "the best K in 50 loops: [4, 4, 4, 4, 4, 4, 4, 4, 4, 4, 4, 4, 4, 4, 4, 4, 4, 4, 4, 4, 4, 4, 4, 4, 4, 4, 4, 4, 4, 4, 4, 4, 4, 4, 4, 4, 4, 4, 4, 4, 4, 4, 4, 4, 4, 4, 4, 4, 4, 4]\n"
     ]
    }
   ],
   "source": [
    "print(\"the best K in 50 loops:\", bestK)"
   ]
  },
  {
   "cell_type": "markdown",
   "metadata": {},
   "source": [
    "### b)"
   ]
  },
  {
   "cell_type": "code",
   "execution_count": 42,
   "metadata": {},
   "outputs": [],
   "source": [
    "from collections import Counter"
   ]
  },
  {
   "cell_type": "code",
   "execution_count": 43,
   "metadata": {},
   "outputs": [],
   "source": [
    "y = data.iloc[:, -4:-1]"
   ]
  },
  {
   "cell_type": "code",
   "execution_count": 44,
   "metadata": {},
   "outputs": [
    {
     "name": "stdout",
     "output_type": "stream",
     "text": [
      "--------------------\n",
      "In loop 1:\n",
      "the majority: {0: {'Family': 'Leptodactylidae', 'Genus': 'Adenomera', 'Species': 'AdenomeraHylaedactylus', 'prediction': 0}, 1: {'Family': 'Dendrobatidae', 'Genus': 'Ameerega', 'Species': 'Ameeregatrivittata', 'prediction': 1}, 2: {'Family': 'Hylidae', 'Genus': 'Hypsiboas', 'Species': 'HypsiboasCinerascens', 'prediction': 2}, 3: {'Family': 'Hylidae', 'Genus': 'Hypsiboas', 'Species': 'HypsiboasCordobae', 'prediction': 3}}\n",
      "--------------------\n",
      "In loop 2:\n",
      "the majority: {0: {'Family': 'Leptodactylidae', 'Genus': 'Adenomera', 'Species': 'AdenomeraHylaedactylus', 'prediction': 0}, 1: {'Family': 'Hylidae', 'Genus': 'Hypsiboas', 'Species': 'HypsiboasCordobae', 'prediction': 1}, 2: {'Family': 'Dendrobatidae', 'Genus': 'Ameerega', 'Species': 'Ameeregatrivittata', 'prediction': 2}, 3: {'Family': 'Hylidae', 'Genus': 'Hypsiboas', 'Species': 'HypsiboasCinerascens', 'prediction': 3}}\n",
      "--------------------\n",
      "In loop 3:\n",
      "the majority: {0: {'Family': 'Hylidae', 'Genus': 'Hypsiboas', 'Species': 'HypsiboasCordobae', 'prediction': 0}, 1: {'Family': 'Leptodactylidae', 'Genus': 'Adenomera', 'Species': 'AdenomeraHylaedactylus', 'prediction': 1}, 2: {'Family': 'Dendrobatidae', 'Genus': 'Ameerega', 'Species': 'Ameeregatrivittata', 'prediction': 2}, 3: {'Family': 'Hylidae', 'Genus': 'Hypsiboas', 'Species': 'HypsiboasCinerascens', 'prediction': 3}}\n",
      "--------------------\n",
      "In loop 4:\n",
      "the majority: {0: {'Family': 'Hylidae', 'Genus': 'Hypsiboas', 'Species': 'HypsiboasCordobae', 'prediction': 0}, 1: {'Family': 'Dendrobatidae', 'Genus': 'Ameerega', 'Species': 'Ameeregatrivittata', 'prediction': 1}, 2: {'Family': 'Leptodactylidae', 'Genus': 'Adenomera', 'Species': 'AdenomeraHylaedactylus', 'prediction': 2}, 3: {'Family': 'Hylidae', 'Genus': 'Hypsiboas', 'Species': 'HypsiboasCinerascens', 'prediction': 3}}\n",
      "--------------------\n",
      "In loop 5:\n",
      "the majority: {0: {'Family': 'Leptodactylidae', 'Genus': 'Adenomera', 'Species': 'AdenomeraAndre', 'prediction': 0}, 1: {'Family': 'Hylidae', 'Genus': 'Hypsiboas', 'Species': 'HypsiboasCordobae', 'prediction': 1}, 2: {'Family': 'Leptodactylidae', 'Genus': 'Adenomera', 'Species': 'AdenomeraHylaedactylus', 'prediction': 2}, 3: {'Family': 'Hylidae', 'Genus': 'Hypsiboas', 'Species': 'HypsiboasCinerascens', 'prediction': 3}}\n",
      "--------------------\n",
      "In loop 6:\n",
      "the majority: {0: {'Family': 'Hylidae', 'Genus': 'Hypsiboas', 'Species': 'HypsiboasCordobae', 'prediction': 0}, 1: {'Family': 'Leptodactylidae', 'Genus': 'Adenomera', 'Species': 'AdenomeraHylaedactylus', 'prediction': 1}, 2: {'Family': 'Dendrobatidae', 'Genus': 'Ameerega', 'Species': 'Ameeregatrivittata', 'prediction': 2}, 3: {'Family': 'Hylidae', 'Genus': 'Hypsiboas', 'Species': 'HypsiboasCinerascens', 'prediction': 3}}\n",
      "--------------------\n",
      "In loop 7:\n",
      "the majority: {0: {'Family': 'Leptodactylidae', 'Genus': 'Adenomera', 'Species': 'AdenomeraHylaedactylus', 'prediction': 0}, 1: {'Family': 'Dendrobatidae', 'Genus': 'Ameerega', 'Species': 'Ameeregatrivittata', 'prediction': 1}, 2: {'Family': 'Hylidae', 'Genus': 'Hypsiboas', 'Species': 'HypsiboasCinerascens', 'prediction': 2}, 3: {'Family': 'Hylidae', 'Genus': 'Hypsiboas', 'Species': 'HypsiboasCordobae', 'prediction': 3}}\n",
      "--------------------\n",
      "In loop 8:\n",
      "the majority: {0: {'Family': 'Leptodactylidae', 'Genus': 'Adenomera', 'Species': 'AdenomeraHylaedactylus', 'prediction': 0}, 1: {'Family': 'Hylidae', 'Genus': 'Hypsiboas', 'Species': 'HypsiboasCinerascens', 'prediction': 1}, 2: {'Family': 'Hylidae', 'Genus': 'Hypsiboas', 'Species': 'HypsiboasCordobae', 'prediction': 2}, 3: {'Family': 'Dendrobatidae', 'Genus': 'Ameerega', 'Species': 'Ameeregatrivittata', 'prediction': 3}}\n",
      "--------------------\n",
      "In loop 9:\n",
      "the majority: {0: {'Family': 'Hylidae', 'Genus': 'Hypsiboas', 'Species': 'HypsiboasCordobae', 'prediction': 0}, 1: {'Family': 'Hylidae', 'Genus': 'Hypsiboas', 'Species': 'HypsiboasCinerascens', 'prediction': 1}, 2: {'Family': 'Dendrobatidae', 'Genus': 'Ameerega', 'Species': 'Ameeregatrivittata', 'prediction': 2}, 3: {'Family': 'Leptodactylidae', 'Genus': 'Adenomera', 'Species': 'AdenomeraHylaedactylus', 'prediction': 3}}\n",
      "--------------------\n",
      "In loop 10:\n",
      "the majority: {0: {'Family': 'Leptodactylidae', 'Genus': 'Adenomera', 'Species': 'AdenomeraHylaedactylus', 'prediction': 0}, 1: {'Family': 'Dendrobatidae', 'Genus': 'Ameerega', 'Species': 'Ameeregatrivittata', 'prediction': 1}, 2: {'Family': 'Hylidae', 'Genus': 'Hypsiboas', 'Species': 'HypsiboasCordobae', 'prediction': 2}, 3: {'Family': 'Hylidae', 'Genus': 'Hypsiboas', 'Species': 'HypsiboasCinerascens', 'prediction': 3}}\n",
      "--------------------\n",
      "In loop 11:\n",
      "the majority: {0: {'Family': 'Leptodactylidae', 'Genus': 'Adenomera', 'Species': 'AdenomeraAndre', 'prediction': 0}, 1: {'Family': 'Leptodactylidae', 'Genus': 'Adenomera', 'Species': 'AdenomeraHylaedactylus', 'prediction': 1}, 2: {'Family': 'Hylidae', 'Genus': 'Hypsiboas', 'Species': 'HypsiboasCordobae', 'prediction': 2}, 3: {'Family': 'Hylidae', 'Genus': 'Hypsiboas', 'Species': 'HypsiboasCinerascens', 'prediction': 3}}\n",
      "--------------------\n",
      "In loop 12:\n",
      "the majority: {0: {'Family': 'Leptodactylidae', 'Genus': 'Adenomera', 'Species': 'AdenomeraHylaedactylus', 'prediction': 0}, 1: {'Family': 'Hylidae', 'Genus': 'Hypsiboas', 'Species': 'HypsiboasCinerascens', 'prediction': 1}, 2: {'Family': 'Hylidae', 'Genus': 'Hypsiboas', 'Species': 'HypsiboasCordobae', 'prediction': 2}, 3: {'Family': 'Dendrobatidae', 'Genus': 'Ameerega', 'Species': 'Ameeregatrivittata', 'prediction': 3}}\n",
      "--------------------\n",
      "In loop 13:\n",
      "the majority: {0: {'Family': 'Dendrobatidae', 'Genus': 'Ameerega', 'Species': 'Ameeregatrivittata', 'prediction': 0}, 1: {'Family': 'Leptodactylidae', 'Genus': 'Adenomera', 'Species': 'AdenomeraHylaedactylus', 'prediction': 1}, 2: {'Family': 'Hylidae', 'Genus': 'Hypsiboas', 'Species': 'HypsiboasCinerascens', 'prediction': 2}, 3: {'Family': 'Hylidae', 'Genus': 'Hypsiboas', 'Species': 'HypsiboasCordobae', 'prediction': 3}}\n",
      "--------------------\n",
      "In loop 14:\n",
      "the majority: {0: {'Family': 'Leptodactylidae', 'Genus': 'Adenomera', 'Species': 'AdenomeraAndre', 'prediction': 0}, 1: {'Family': 'Leptodactylidae', 'Genus': 'Adenomera', 'Species': 'AdenomeraHylaedactylus', 'prediction': 1}, 2: {'Family': 'Hylidae', 'Genus': 'Hypsiboas', 'Species': 'HypsiboasCordobae', 'prediction': 2}, 3: {'Family': 'Hylidae', 'Genus': 'Hypsiboas', 'Species': 'HypsiboasCordobae', 'prediction': 3}}\n",
      "--------------------\n",
      "In loop 15:\n",
      "the majority: {0: {'Family': 'Leptodactylidae', 'Genus': 'Adenomera', 'Species': 'AdenomeraHylaedactylus', 'prediction': 0}, 1: {'Family': 'Hylidae', 'Genus': 'Hypsiboas', 'Species': 'HypsiboasCordobae', 'prediction': 1}, 2: {'Family': 'Hylidae', 'Genus': 'Hypsiboas', 'Species': 'HypsiboasCinerascens', 'prediction': 2}, 3: {'Family': 'Dendrobatidae', 'Genus': 'Ameerega', 'Species': 'Ameeregatrivittata', 'prediction': 3}}\n",
      "--------------------\n",
      "In loop 16:\n",
      "the majority: {0: {'Family': 'Leptodactylidae', 'Genus': 'Adenomera', 'Species': 'AdenomeraHylaedactylus', 'prediction': 0}, 1: {'Family': 'Hylidae', 'Genus': 'Hypsiboas', 'Species': 'HypsiboasCinerascens', 'prediction': 1}, 2: {'Family': 'Hylidae', 'Genus': 'Hypsiboas', 'Species': 'HypsiboasCordobae', 'prediction': 2}, 3: {'Family': 'Dendrobatidae', 'Genus': 'Ameerega', 'Species': 'Ameeregatrivittata', 'prediction': 3}}\n",
      "--------------------\n",
      "In loop 17:\n",
      "the majority: {0: {'Family': 'Dendrobatidae', 'Genus': 'Ameerega', 'Species': 'Ameeregatrivittata', 'prediction': 0}, 1: {'Family': 'Hylidae', 'Genus': 'Hypsiboas', 'Species': 'HypsiboasCordobae', 'prediction': 1}, 2: {'Family': 'Hylidae', 'Genus': 'Hypsiboas', 'Species': 'HypsiboasCinerascens', 'prediction': 2}, 3: {'Family': 'Leptodactylidae', 'Genus': 'Adenomera', 'Species': 'AdenomeraHylaedactylus', 'prediction': 3}}\n",
      "--------------------\n",
      "In loop 18:\n",
      "the majority: {0: {'Family': 'Dendrobatidae', 'Genus': 'Ameerega', 'Species': 'Ameeregatrivittata', 'prediction': 0}, 1: {'Family': 'Leptodactylidae', 'Genus': 'Adenomera', 'Species': 'AdenomeraHylaedactylus', 'prediction': 1}, 2: {'Family': 'Hylidae', 'Genus': 'Hypsiboas', 'Species': 'HypsiboasCinerascens', 'prediction': 2}, 3: {'Family': 'Hylidae', 'Genus': 'Hypsiboas', 'Species': 'HypsiboasCordobae', 'prediction': 3}}\n"
     ]
    },
    {
     "name": "stdout",
     "output_type": "stream",
     "text": [
      "--------------------\n",
      "In loop 19:\n",
      "the majority: {0: {'Family': 'Leptodactylidae', 'Genus': 'Adenomera', 'Species': 'AdenomeraHylaedactylus', 'prediction': 0}, 1: {'Family': 'Dendrobatidae', 'Genus': 'Ameerega', 'Species': 'Ameeregatrivittata', 'prediction': 1}, 2: {'Family': 'Hylidae', 'Genus': 'Hypsiboas', 'Species': 'HypsiboasCordobae', 'prediction': 2}, 3: {'Family': 'Hylidae', 'Genus': 'Hypsiboas', 'Species': 'HypsiboasCinerascens', 'prediction': 3}}\n",
      "--------------------\n",
      "In loop 20:\n",
      "the majority: {0: {'Family': 'Leptodactylidae', 'Genus': 'Adenomera', 'Species': 'AdenomeraAndre', 'prediction': 0}, 1: {'Family': 'Hylidae', 'Genus': 'Hypsiboas', 'Species': 'HypsiboasCordobae', 'prediction': 1}, 2: {'Family': 'Leptodactylidae', 'Genus': 'Adenomera', 'Species': 'AdenomeraHylaedactylus', 'prediction': 2}, 3: {'Family': 'Hylidae', 'Genus': 'Hypsiboas', 'Species': 'HypsiboasCordobae', 'prediction': 3}}\n",
      "--------------------\n",
      "In loop 21:\n",
      "the majority: {0: {'Family': 'Leptodactylidae', 'Genus': 'Adenomera', 'Species': 'AdenomeraHylaedactylus', 'prediction': 0}, 1: {'Family': 'Dendrobatidae', 'Genus': 'Ameerega', 'Species': 'Ameeregatrivittata', 'prediction': 1}, 2: {'Family': 'Hylidae', 'Genus': 'Hypsiboas', 'Species': 'HypsiboasCordobae', 'prediction': 2}, 3: {'Family': 'Hylidae', 'Genus': 'Hypsiboas', 'Species': 'HypsiboasCinerascens', 'prediction': 3}}\n",
      "--------------------\n",
      "In loop 22:\n",
      "the majority: {0: {'Family': 'Leptodactylidae', 'Genus': 'Adenomera', 'Species': 'AdenomeraHylaedactylus', 'prediction': 0}, 1: {'Family': 'Hylidae', 'Genus': 'Hypsiboas', 'Species': 'HypsiboasCordobae', 'prediction': 1}, 2: {'Family': 'Dendrobatidae', 'Genus': 'Ameerega', 'Species': 'Ameeregatrivittata', 'prediction': 2}, 3: {'Family': 'Hylidae', 'Genus': 'Hypsiboas', 'Species': 'HypsiboasCinerascens', 'prediction': 3}}\n",
      "--------------------\n",
      "In loop 23:\n",
      "the majority: {0: {'Family': 'Hylidae', 'Genus': 'Hypsiboas', 'Species': 'HypsiboasCordobae', 'prediction': 0}, 1: {'Family': 'Dendrobatidae', 'Genus': 'Ameerega', 'Species': 'Ameeregatrivittata', 'prediction': 1}, 2: {'Family': 'Hylidae', 'Genus': 'Hypsiboas', 'Species': 'HypsiboasCinerascens', 'prediction': 2}, 3: {'Family': 'Leptodactylidae', 'Genus': 'Adenomera', 'Species': 'AdenomeraHylaedactylus', 'prediction': 3}}\n",
      "--------------------\n",
      "In loop 24:\n",
      "the majority: {0: {'Family': 'Leptodactylidae', 'Genus': 'Adenomera', 'Species': 'AdenomeraHylaedactylus', 'prediction': 0}, 1: {'Family': 'Dendrobatidae', 'Genus': 'Ameerega', 'Species': 'Ameeregatrivittata', 'prediction': 1}, 2: {'Family': 'Hylidae', 'Genus': 'Hypsiboas', 'Species': 'HypsiboasCinerascens', 'prediction': 2}, 3: {'Family': 'Hylidae', 'Genus': 'Hypsiboas', 'Species': 'HypsiboasCordobae', 'prediction': 3}}\n",
      "--------------------\n",
      "In loop 25:\n",
      "the majority: {0: {'Family': 'Hylidae', 'Genus': 'Hypsiboas', 'Species': 'HypsiboasCordobae', 'prediction': 0}, 1: {'Family': 'Leptodactylidae', 'Genus': 'Adenomera', 'Species': 'AdenomeraHylaedactylus', 'prediction': 1}, 2: {'Family': 'Hylidae', 'Genus': 'Hypsiboas', 'Species': 'HypsiboasCinerascens', 'prediction': 2}, 3: {'Family': 'Dendrobatidae', 'Genus': 'Ameerega', 'Species': 'Ameeregatrivittata', 'prediction': 3}}\n",
      "--------------------\n",
      "In loop 26:\n",
      "the majority: {0: {'Family': 'Leptodactylidae', 'Genus': 'Adenomera', 'Species': 'AdenomeraHylaedactylus', 'prediction': 0}, 1: {'Family': 'Dendrobatidae', 'Genus': 'Ameerega', 'Species': 'Ameeregatrivittata', 'prediction': 1}, 2: {'Family': 'Hylidae', 'Genus': 'Hypsiboas', 'Species': 'HypsiboasCinerascens', 'prediction': 2}, 3: {'Family': 'Hylidae', 'Genus': 'Hypsiboas', 'Species': 'HypsiboasCordobae', 'prediction': 3}}\n",
      "--------------------\n",
      "In loop 27:\n",
      "the majority: {0: {'Family': 'Leptodactylidae', 'Genus': 'Adenomera', 'Species': 'AdenomeraHylaedactylus', 'prediction': 0}, 1: {'Family': 'Hylidae', 'Genus': 'Hypsiboas', 'Species': 'HypsiboasCinerascens', 'prediction': 1}, 2: {'Family': 'Hylidae', 'Genus': 'Hypsiboas', 'Species': 'HypsiboasCordobae', 'prediction': 2}, 3: {'Family': 'Dendrobatidae', 'Genus': 'Ameerega', 'Species': 'Ameeregatrivittata', 'prediction': 3}}\n",
      "--------------------\n",
      "In loop 28:\n",
      "the majority: {0: {'Family': 'Leptodactylidae', 'Genus': 'Adenomera', 'Species': 'AdenomeraHylaedactylus', 'prediction': 0}, 1: {'Family': 'Dendrobatidae', 'Genus': 'Ameerega', 'Species': 'Ameeregatrivittata', 'prediction': 1}, 2: {'Family': 'Hylidae', 'Genus': 'Hypsiboas', 'Species': 'HypsiboasCordobae', 'prediction': 2}, 3: {'Family': 'Hylidae', 'Genus': 'Hypsiboas', 'Species': 'HypsiboasCinerascens', 'prediction': 3}}\n",
      "--------------------\n",
      "In loop 29:\n",
      "the majority: {0: {'Family': 'Dendrobatidae', 'Genus': 'Ameerega', 'Species': 'Ameeregatrivittata', 'prediction': 0}, 1: {'Family': 'Leptodactylidae', 'Genus': 'Adenomera', 'Species': 'AdenomeraHylaedactylus', 'prediction': 1}, 2: {'Family': 'Hylidae', 'Genus': 'Hypsiboas', 'Species': 'HypsiboasCordobae', 'prediction': 2}, 3: {'Family': 'Hylidae', 'Genus': 'Hypsiboas', 'Species': 'HypsiboasCinerascens', 'prediction': 3}}\n",
      "--------------------\n",
      "In loop 30:\n",
      "the majority: {0: {'Family': 'Hylidae', 'Genus': 'Hypsiboas', 'Species': 'HypsiboasCordobae', 'prediction': 0}, 1: {'Family': 'Leptodactylidae', 'Genus': 'Adenomera', 'Species': 'AdenomeraHylaedactylus', 'prediction': 1}, 2: {'Family': 'Dendrobatidae', 'Genus': 'Ameerega', 'Species': 'Ameeregatrivittata', 'prediction': 2}, 3: {'Family': 'Hylidae', 'Genus': 'Hypsiboas', 'Species': 'HypsiboasCinerascens', 'prediction': 3}}\n",
      "--------------------\n",
      "In loop 31:\n",
      "the majority: {0: {'Family': 'Hylidae', 'Genus': 'Hypsiboas', 'Species': 'HypsiboasCinerascens', 'prediction': 0}, 1: {'Family': 'Leptodactylidae', 'Genus': 'Adenomera', 'Species': 'AdenomeraHylaedactylus', 'prediction': 1}, 2: {'Family': 'Hylidae', 'Genus': 'Hypsiboas', 'Species': 'HypsiboasCordobae', 'prediction': 2}, 3: {'Family': 'Dendrobatidae', 'Genus': 'Ameerega', 'Species': 'Ameeregatrivittata', 'prediction': 3}}\n",
      "--------------------\n",
      "In loop 32:\n",
      "the majority: {0: {'Family': 'Leptodactylidae', 'Genus': 'Adenomera', 'Species': 'AdenomeraHylaedactylus', 'prediction': 0}, 1: {'Family': 'Dendrobatidae', 'Genus': 'Ameerega', 'Species': 'Ameeregatrivittata', 'prediction': 1}, 2: {'Family': 'Hylidae', 'Genus': 'Hypsiboas', 'Species': 'HypsiboasCinerascens', 'prediction': 2}, 3: {'Family': 'Hylidae', 'Genus': 'Hypsiboas', 'Species': 'HypsiboasCordobae', 'prediction': 3}}\n",
      "--------------------\n",
      "In loop 33:\n",
      "the majority: {0: {'Family': 'Leptodactylidae', 'Genus': 'Adenomera', 'Species': 'AdenomeraHylaedactylus', 'prediction': 0}, 1: {'Family': 'Hylidae', 'Genus': 'Hypsiboas', 'Species': 'HypsiboasCinerascens', 'prediction': 1}, 2: {'Family': 'Hylidae', 'Genus': 'Hypsiboas', 'Species': 'HypsiboasCordobae', 'prediction': 2}, 3: {'Family': 'Dendrobatidae', 'Genus': 'Ameerega', 'Species': 'Ameeregatrivittata', 'prediction': 3}}\n",
      "--------------------\n",
      "In loop 34:\n",
      "the majority: {0: {'Family': 'Hylidae', 'Genus': 'Hypsiboas', 'Species': 'HypsiboasCinerascens', 'prediction': 0}, 1: {'Family': 'Leptodactylidae', 'Genus': 'Adenomera', 'Species': 'AdenomeraHylaedactylus', 'prediction': 1}, 2: {'Family': 'Hylidae', 'Genus': 'Hypsiboas', 'Species': 'HypsiboasCordobae', 'prediction': 2}, 3: {'Family': 'Leptodactylidae', 'Genus': 'Adenomera', 'Species': 'AdenomeraAndre', 'prediction': 3}}\n",
      "--------------------\n",
      "In loop 35:\n",
      "the majority: {0: {'Family': 'Leptodactylidae', 'Genus': 'Adenomera', 'Species': 'AdenomeraHylaedactylus', 'prediction': 0}, 1: {'Family': 'Dendrobatidae', 'Genus': 'Ameerega', 'Species': 'Ameeregatrivittata', 'prediction': 1}, 2: {'Family': 'Hylidae', 'Genus': 'Hypsiboas', 'Species': 'HypsiboasCordobae', 'prediction': 2}, 3: {'Family': 'Hylidae', 'Genus': 'Hypsiboas', 'Species': 'HypsiboasCinerascens', 'prediction': 3}}\n",
      "--------------------\n",
      "In loop 36:\n",
      "the majority: {0: {'Family': 'Leptodactylidae', 'Genus': 'Adenomera', 'Species': 'AdenomeraHylaedactylus', 'prediction': 0}, 1: {'Family': 'Dendrobatidae', 'Genus': 'Ameerega', 'Species': 'Ameeregatrivittata', 'prediction': 1}, 2: {'Family': 'Hylidae', 'Genus': 'Hypsiboas', 'Species': 'HypsiboasCinerascens', 'prediction': 2}, 3: {'Family': 'Hylidae', 'Genus': 'Hypsiboas', 'Species': 'HypsiboasCordobae', 'prediction': 3}}\n"
     ]
    },
    {
     "name": "stdout",
     "output_type": "stream",
     "text": [
      "--------------------\n",
      "In loop 37:\n",
      "the majority: {0: {'Family': 'Leptodactylidae', 'Genus': 'Adenomera', 'Species': 'AdenomeraHylaedactylus', 'prediction': 0}, 1: {'Family': 'Leptodactylidae', 'Genus': 'Adenomera', 'Species': 'AdenomeraAndre', 'prediction': 1}, 2: {'Family': 'Hylidae', 'Genus': 'Hypsiboas', 'Species': 'HypsiboasCordobae', 'prediction': 2}, 3: {'Family': 'Hylidae', 'Genus': 'Hypsiboas', 'Species': 'HypsiboasCinerascens', 'prediction': 3}}\n",
      "--------------------\n",
      "In loop 38:\n",
      "the majority: {0: {'Family': 'Leptodactylidae', 'Genus': 'Adenomera', 'Species': 'AdenomeraHylaedactylus', 'prediction': 0}, 1: {'Family': 'Hylidae', 'Genus': 'Hypsiboas', 'Species': 'HypsiboasCinerascens', 'prediction': 1}, 2: {'Family': 'Hylidae', 'Genus': 'Hypsiboas', 'Species': 'HypsiboasCordobae', 'prediction': 2}, 3: {'Family': 'Dendrobatidae', 'Genus': 'Ameerega', 'Species': 'Ameeregatrivittata', 'prediction': 3}}\n",
      "--------------------\n",
      "In loop 39:\n",
      "the majority: {0: {'Family': 'Dendrobatidae', 'Genus': 'Ameerega', 'Species': 'Ameeregatrivittata', 'prediction': 0}, 1: {'Family': 'Hylidae', 'Genus': 'Hypsiboas', 'Species': 'HypsiboasCordobae', 'prediction': 1}, 2: {'Family': 'Leptodactylidae', 'Genus': 'Adenomera', 'Species': 'AdenomeraHylaedactylus', 'prediction': 2}, 3: {'Family': 'Hylidae', 'Genus': 'Hypsiboas', 'Species': 'HypsiboasCinerascens', 'prediction': 3}}\n",
      "--------------------\n",
      "In loop 40:\n",
      "the majority: {0: {'Family': 'Leptodactylidae', 'Genus': 'Adenomera', 'Species': 'AdenomeraHylaedactylus', 'prediction': 0}, 1: {'Family': 'Hylidae', 'Genus': 'Hypsiboas', 'Species': 'HypsiboasCordobae', 'prediction': 1}, 2: {'Family': 'Hylidae', 'Genus': 'Hypsiboas', 'Species': 'HypsiboasCinerascens', 'prediction': 2}, 3: {'Family': 'Dendrobatidae', 'Genus': 'Ameerega', 'Species': 'Ameeregatrivittata', 'prediction': 3}}\n",
      "--------------------\n",
      "In loop 41:\n",
      "the majority: {0: {'Family': 'Hylidae', 'Genus': 'Hypsiboas', 'Species': 'HypsiboasCordobae', 'prediction': 0}, 1: {'Family': 'Leptodactylidae', 'Genus': 'Adenomera', 'Species': 'AdenomeraHylaedactylus', 'prediction': 1}, 2: {'Family': 'Hylidae', 'Genus': 'Hypsiboas', 'Species': 'HypsiboasCinerascens', 'prediction': 2}, 3: {'Family': 'Dendrobatidae', 'Genus': 'Ameerega', 'Species': 'Ameeregatrivittata', 'prediction': 3}}\n",
      "--------------------\n",
      "In loop 42:\n",
      "the majority: {0: {'Family': 'Dendrobatidae', 'Genus': 'Ameerega', 'Species': 'Ameeregatrivittata', 'prediction': 0}, 1: {'Family': 'Hylidae', 'Genus': 'Hypsiboas', 'Species': 'HypsiboasCinerascens', 'prediction': 1}, 2: {'Family': 'Hylidae', 'Genus': 'Hypsiboas', 'Species': 'HypsiboasCordobae', 'prediction': 2}, 3: {'Family': 'Leptodactylidae', 'Genus': 'Adenomera', 'Species': 'AdenomeraHylaedactylus', 'prediction': 3}}\n",
      "--------------------\n",
      "In loop 43:\n",
      "the majority: {0: {'Family': 'Leptodactylidae', 'Genus': 'Adenomera', 'Species': 'AdenomeraHylaedactylus', 'prediction': 0}, 1: {'Family': 'Hylidae', 'Genus': 'Hypsiboas', 'Species': 'HypsiboasCinerascens', 'prediction': 1}, 2: {'Family': 'Dendrobatidae', 'Genus': 'Ameerega', 'Species': 'Ameeregatrivittata', 'prediction': 2}, 3: {'Family': 'Hylidae', 'Genus': 'Hypsiboas', 'Species': 'HypsiboasCordobae', 'prediction': 3}}\n",
      "--------------------\n",
      "In loop 44:\n",
      "the majority: {0: {'Family': 'Dendrobatidae', 'Genus': 'Ameerega', 'Species': 'Ameeregatrivittata', 'prediction': 0}, 1: {'Family': 'Leptodactylidae', 'Genus': 'Adenomera', 'Species': 'AdenomeraHylaedactylus', 'prediction': 1}, 2: {'Family': 'Hylidae', 'Genus': 'Hypsiboas', 'Species': 'HypsiboasCordobae', 'prediction': 2}, 3: {'Family': 'Hylidae', 'Genus': 'Hypsiboas', 'Species': 'HypsiboasCinerascens', 'prediction': 3}}\n",
      "--------------------\n",
      "In loop 45:\n",
      "the majority: {0: {'Family': 'Leptodactylidae', 'Genus': 'Adenomera', 'Species': 'AdenomeraHylaedactylus', 'prediction': 0}, 1: {'Family': 'Dendrobatidae', 'Genus': 'Ameerega', 'Species': 'Ameeregatrivittata', 'prediction': 1}, 2: {'Family': 'Hylidae', 'Genus': 'Hypsiboas', 'Species': 'HypsiboasCordobae', 'prediction': 2}, 3: {'Family': 'Hylidae', 'Genus': 'Hypsiboas', 'Species': 'HypsiboasCinerascens', 'prediction': 3}}\n",
      "--------------------\n",
      "In loop 46:\n",
      "the majority: {0: {'Family': 'Leptodactylidae', 'Genus': 'Adenomera', 'Species': 'AdenomeraHylaedactylus', 'prediction': 0}, 1: {'Family': 'Dendrobatidae', 'Genus': 'Ameerega', 'Species': 'Ameeregatrivittata', 'prediction': 1}, 2: {'Family': 'Hylidae', 'Genus': 'Hypsiboas', 'Species': 'HypsiboasCinerascens', 'prediction': 2}, 3: {'Family': 'Hylidae', 'Genus': 'Hypsiboas', 'Species': 'HypsiboasCordobae', 'prediction': 3}}\n",
      "--------------------\n",
      "In loop 47:\n",
      "the majority: {0: {'Family': 'Leptodactylidae', 'Genus': 'Adenomera', 'Species': 'AdenomeraHylaedactylus', 'prediction': 0}, 1: {'Family': 'Dendrobatidae', 'Genus': 'Ameerega', 'Species': 'Ameeregatrivittata', 'prediction': 1}, 2: {'Family': 'Hylidae', 'Genus': 'Hypsiboas', 'Species': 'HypsiboasCinerascens', 'prediction': 2}, 3: {'Family': 'Hylidae', 'Genus': 'Hypsiboas', 'Species': 'HypsiboasCordobae', 'prediction': 3}}\n",
      "--------------------\n",
      "In loop 48:\n",
      "the majority: {0: {'Family': 'Hylidae', 'Genus': 'Hypsiboas', 'Species': 'HypsiboasCordobae', 'prediction': 0}, 1: {'Family': 'Leptodactylidae', 'Genus': 'Adenomera', 'Species': 'AdenomeraHylaedactylus', 'prediction': 1}, 2: {'Family': 'Hylidae', 'Genus': 'Hypsiboas', 'Species': 'HypsiboasCinerascens', 'prediction': 2}, 3: {'Family': 'Dendrobatidae', 'Genus': 'Ameerega', 'Species': 'Ameeregatrivittata', 'prediction': 3}}\n",
      "--------------------\n",
      "In loop 49:\n",
      "the majority: {0: {'Family': 'Dendrobatidae', 'Genus': 'Ameerega', 'Species': 'Ameeregatrivittata', 'prediction': 0}, 1: {'Family': 'Leptodactylidae', 'Genus': 'Adenomera', 'Species': 'AdenomeraHylaedactylus', 'prediction': 1}, 2: {'Family': 'Hylidae', 'Genus': 'Hypsiboas', 'Species': 'HypsiboasCordobae', 'prediction': 2}, 3: {'Family': 'Hylidae', 'Genus': 'Hypsiboas', 'Species': 'HypsiboasCinerascens', 'prediction': 3}}\n",
      "--------------------\n",
      "In loop 50:\n",
      "the majority: {0: {'Family': 'Leptodactylidae', 'Genus': 'Adenomera', 'Species': 'AdenomeraHylaedactylus', 'prediction': 0}, 1: {'Family': 'Dendrobatidae', 'Genus': 'Ameerega', 'Species': 'Ameeregatrivittata', 'prediction': 1}, 2: {'Family': 'Hylidae', 'Genus': 'Hypsiboas', 'Species': 'HypsiboasCinerascens', 'prediction': 2}, 3: {'Family': 'Hylidae', 'Genus': 'Hypsiboas', 'Species': 'HypsiboasCordobae', 'prediction': 3}}\n"
     ]
    }
   ],
   "source": [
    "hamming_loss = []\n",
    "distance = []\n",
    "\n",
    "for i in range(50):\n",
    "    kmeans = KMeans(n_clusters=4, random_state=i)\n",
    "    cluster = kmeans.fit_predict(x)\n",
    "    y[\"prediction\"] = cluster\n",
    "\n",
    "    majority = {}\n",
    "    \n",
    "    for index in range(4):\n",
    "        true_label = y[y[\"prediction\"] == index]\n",
    "        temp = {}\n",
    "        for column in y.columns:\n",
    "            temp[column] = Counter(true_label[column]).most_common(1)[0][0]\n",
    "        majority[index] = temp\n",
    "        \n",
    "    number = 0\n",
    "    for index in range(4):\n",
    "        true_label = y[y[\"prediction\"] == index]\n",
    "        for column in y.columns:\n",
    "            number += sum(true_label[column] != majority[index][column])\n",
    "    loss = number / (y.shape[0] * 3)\n",
    "    hamming_loss.append(loss)\n",
    "    \n",
    "    distance.append(sum(np.min(cdist(x, kmeans.cluster_centers_, 'euclidean'), axis=1)) / x.shape[0])\n",
    "    print(\"--------------------\")\n",
    "    print(\"In loop {}:\".format(i+1))\n",
    "    print(\"the majority:\", majority)\n",
    "    "
   ]
  },
  {
   "cell_type": "markdown",
   "metadata": {},
   "source": [
    "### c)"
   ]
  },
  {
   "cell_type": "code",
   "execution_count": 45,
   "metadata": {},
   "outputs": [
    {
     "name": "stdout",
     "output_type": "stream",
     "text": [
      "--------------------\n",
      "The average Hamming distance: 0.44879306587477913\n",
      "The average Hamming loss: 0.22416400277970816\n",
      "The average Hamming score: 0.7758359972202917\n"
     ]
    }
   ],
   "source": [
    "print(\"--------------------\")\n",
    "print(\"The average Hamming distance:\", np.average(distance))\n",
    "print(\"The average Hamming loss:\", np.average(hamming_loss))\n",
    "print(\"The average Hamming score:\", np.average(1 - np.array(hamming_loss)))\n"
   ]
  },
  {
   "cell_type": "markdown",
   "metadata": {},
   "source": [
    "## 3. ISLR 10.7.2"
   ]
  },
  {
   "cell_type": "markdown",
   "metadata": {},
   "source": [
    "![](https://user-images.githubusercontent.com/18362787/87218292-2f5c0000-c306-11ea-84a7-df1a203e21ef.jpg)"
   ]
  },
  {
   "cell_type": "markdown",
   "metadata": {},
   "source": [
    "### a)"
   ]
  },
  {
   "cell_type": "code",
   "execution_count": 12,
   "metadata": {},
   "outputs": [],
   "source": [
    "from scipy.cluster import hierarchy\n"
   ]
  },
  {
   "cell_type": "code",
   "execution_count": 13,
   "metadata": {},
   "outputs": [
    {
     "data": {
      "image/png": "[encoded data removed]",
      "text/plain": [
       "<Figure size 432x288 with 1 Axes>"
      ]
     },
     "metadata": {
      "needs_background": "light"
     },
     "output_type": "display_data"
    }
   ],
   "source": [
    "matrix = np.array([0.3, 0.4, 0.7, 0.5, 0.8, 0.45])\n",
    "\n",
    "Z = hierarchy.linkage(matrix, 'complete')\n",
    "dn = hierarchy.dendrogram(Z)\n",
    "plt.show()"
   ]
  },
  {
   "cell_type": "markdown",
   "metadata": {},
   "source": [
    "### b)"
   ]
  },
  {
   "cell_type": "code",
   "execution_count": 14,
   "metadata": {},
   "outputs": [
    {
     "data": {
      "image/png": "[encoded data removed]",
      "text/plain": [
       "<Figure size 432x288 with 1 Axes>"
      ]
     },
     "metadata": {
      "needs_background": "light"
     },
     "output_type": "display_data"
    }
   ],
   "source": [
    "Z = hierarchy.linkage(matrix, 'single')\n",
    "dn = hierarchy.dendrogram(Z)\n",
    "plt.show()"
   ]
  },
  {
   "cell_type": "markdown",
   "metadata": {},
   "source": [
    "### c)"
   ]
  },
  {
   "cell_type": "markdown",
   "metadata": {},
   "source": [
    "**observation 0 and 1 will be in the first cluster. Then, observation 2 and 3 will be in the second cluster.**"
   ]
  },
  {
   "cell_type": "markdown",
   "metadata": {},
   "source": [
    "### d)"
   ]
  },
  {
   "cell_type": "markdown",
   "metadata": {},
   "source": [
    "**observation 3 will be in the first cluster. observation 0, 1 and 2 will be in the second cluster.**"
   ]
  },
  {
   "cell_type": "markdown",
   "metadata": {},
   "source": [
    "### e)"
   ]
  },
  {
   "cell_type": "code",
   "execution_count": 15,
   "metadata": {},
   "outputs": [
    {
     "data": {
      "image/png": "[encoded data removed]",
      "text/plain": [
       "<Figure size 432x288 with 1 Axes>"
      ]
     },
     "metadata": {
      "needs_background": "light"
     },
     "output_type": "display_data"
    }
   ],
   "source": [
    "Z = hierarchy.linkage(matrix, 'complete')\n",
    "dn = hierarchy.dendrogram(Z, labels=[1,0,3,2])\n",
    "plt.show()"
   ]
  },
  {
   "cell_type": "code",
   "execution_count": null,
   "metadata": {},
   "outputs": [],
   "source": []
  }
 ],
 "metadata": {
  "kernelspec": {
   "display_name": "Python 3.6.10 64-bit ('py36': conda)",
   "language": "python",
   "name": "python361064bitpy36conda4e672d6ff96844debe44d9bc86fe2211"
  },
  "language_info": {
   "codemirror_mode": {
    "name": "ipython",
    "version": 3
   },
   "file_extension": ".py",
   "mimetype": "text/x-python",
   "name": "python",
   "nbconvert_exporter": "python",
   "pygments_lexer": "ipython3",
   "version": "3.6.10"
  }
 },
 "nbformat": 4,
 "nbformat_minor": 2
}
